{
 "cells": [
  {
   "cell_type": "code",
   "execution_count": 2,
   "metadata": {
    "execution": {
     "iopub.execute_input": "2021-11-28T20:38:46.953987Z",
     "iopub.status.busy": "2021-11-28T20:38:46.953036Z",
     "iopub.status.idle": "2021-11-28T20:38:52.345496Z",
     "shell.execute_reply": "2021-11-28T20:38:52.344708Z",
     "shell.execute_reply.started": "2021-11-28T20:38:46.953916Z"
    }
   },
   "outputs": [],
   "source": [
    "import tensorflow as tf\n",
    "import numpy as np\n",
    "import pandas as pd\n",
    "import os\n",
    "import random\n",
    "import seaborn as sns\n",
    "import matplotlib as mpl\n",
    "import matplotlib.pyplot as plt\n",
    "from PIL import Image\n",
    "import sklearn\n",
    "from sklearn.model_selection import train_test_split\n",
    "from sklearn.metrics import accuracy_score, f1_score, precision_score, recall_score\n",
    "from sklearn.metrics import confusion_matrix\n",
    "from os import walk\n",
    "from datetime import datetime\n",
    "from tensorflow.keras.preprocessing.image import ImageDataGenerator\n",
    "tfk = tf.keras\n",
    "tfkl = tf.keras.layers\n",
    "print(tf.__version__)"
   ]
  },
  {
   "cell_type": "code",
   "execution_count": 3,
   "metadata": {
    "execution": {
     "iopub.execute_input": "2021-11-28T20:39:05.042619Z",
     "iopub.status.busy": "2021-11-28T20:39:05.042310Z",
     "iopub.status.idle": "2021-11-28T20:39:05.056950Z",
     "shell.execute_reply": "2021-11-28T20:39:05.056300Z",
     "shell.execute_reply.started": "2021-11-28T20:39:05.042587Z"
    }
   },
   "outputs": [],
   "source": [
    "os.listdir('/kaggle/input/homework1')"
   ]
  },
  {
   "cell_type": "code",
   "execution_count": 4,
   "metadata": {
    "execution": {
     "iopub.execute_input": "2021-11-28T20:39:05.470639Z",
     "iopub.status.busy": "2021-11-28T20:39:05.470415Z",
     "iopub.status.idle": "2021-11-28T20:39:05.474561Z",
     "shell.execute_reply": "2021-11-28T20:39:05.473560Z",
     "shell.execute_reply.started": "2021-11-28T20:39:05.470614Z"
    }
   },
   "outputs": [],
   "source": [
    "# Dataset folders \n",
    "dataset_dir = '/kaggle/input/homework1/training'\n",
    "training_dir = os.path.join(dataset_dir, '')"
   ]
  },
  {
   "cell_type": "code",
   "execution_count": 5,
   "metadata": {
    "execution": {
     "iopub.execute_input": "2021-11-28T20:39:06.211128Z",
     "iopub.status.busy": "2021-11-28T20:39:06.210859Z",
     "iopub.status.idle": "2021-11-28T20:39:06.216230Z",
     "shell.execute_reply": "2021-11-28T20:39:06.215084Z",
     "shell.execute_reply.started": "2021-11-28T20:39:06.211097Z"
    }
   },
   "outputs": [],
   "source": [
    "# Random seed for reproducibility\n",
    "seed = 42\n",
    "\n",
    "random.seed(seed)\n",
    "os.environ['PYTHONHASHSEED'] = str(seed)\n",
    "np.random.seed(seed)\n",
    "tf.random.set_seed(seed)\n",
    "tf.compat.v1.set_random_seed(seed)"
   ]
  },
  {
   "cell_type": "code",
   "execution_count": 16,
   "metadata": {
    "execution": {
     "iopub.execute_input": "2021-11-28T20:41:02.598517Z",
     "iopub.status.busy": "2021-11-28T20:41:02.598292Z",
     "iopub.status.idle": "2021-11-28T20:41:02.628830Z",
     "shell.execute_reply": "2021-11-28T20:41:02.628101Z",
     "shell.execute_reply.started": "2021-11-28T20:41:02.598491Z"
    }
   },
   "outputs": [],
   "source": [
    "# Utility function to create folders and callbacks for training\n",
    "from datetime import datetime\n",
    "\n",
    "def create_folders_and_callbacks(model_name):\n",
    "\n",
    "  exps_dir = os.path.join('data_experiments')\n",
    "  if not os.path.exists(exps_dir):\n",
    "      os.makedirs(exps_dir)\n",
    "\n",
    "  now = datetime.now().strftime('%b%d_%H-%M-%S')\n",
    "\n",
    "  exp_dir = os.path.join(exps_dir, model_name + '_' + str(now))\n",
    "  if not os.path.exists(exp_dir):\n",
    "      os.makedirs(exp_dir)\n",
    "      \n",
    "  callbacks = []\n",
    "\n",
    "  # Model checkpoint\n",
    "  # ----------------\n",
    "  ckpt_dir = os.path.join(exp_dir, 'ckpts')\n",
    "  if not os.path.exists(ckpt_dir):\n",
    "      os.makedirs(ckpt_dir)\n",
    "\n",
    "  ckpt_callback = tf.keras.callbacks.ModelCheckpoint(filepath=os.path.join(ckpt_dir, 'cp.ckpt'), \n",
    "                                                     save_weights_only=False, # True to save only weights\n",
    "                                                     save_best_only=True) # True to save only the best epoch \n",
    "  callbacks.append(ckpt_callback)\n",
    "\n",
    "  # Visualize Learning on Tensorboard\n",
    "  # ---------------------------------\n",
    "  tb_dir = os.path.join(exp_dir, 'tb_logs')\n",
    "  if not os.path.exists(tb_dir):\n",
    "      os.makedirs(tb_dir)\n",
    "      \n",
    "  # By default shows losses and metrics for both training and validation\n",
    "  tb_callback = tf.keras.callbacks.TensorBoard(log_dir=tb_dir, \n",
    "                                               profile_batch=0,\n",
    "                                               histogram_freq=1)  # if > 0 (epochs) shows weights histograms\n",
    "  callbacks.append(tb_callback)\n",
    "\n",
    "  # Early Stopping\n",
    "  # --------------\n",
    "  es_callback = tf.keras.callbacks.EarlyStopping(monitor='val_accuracy',mode='max', patience=15, restore_best_weights=True)\n",
    "  callbacks.append(es_callback)\n",
    "\n",
    "  return callbacks"
   ]
  },
  {
   "cell_type": "code",
   "execution_count": 5,
   "metadata": {
    "execution": {
     "iopub.execute_input": "2021-11-28T20:01:43.829131Z",
     "iopub.status.busy": "2021-11-28T20:01:43.828591Z",
     "iopub.status.idle": "2021-11-28T20:01:55.291088Z",
     "shell.execute_reply": "2021-11-28T20:01:55.290079Z",
     "shell.execute_reply.started": "2021-11-28T20:01:43.829096Z"
    }
   },
   "outputs": [],
   "source": [
    "#loading the Resnet152 TL model\n",
    "base_model=tfk.applications.resnet.ResNet152(\n",
    "    include_top=False, weights='imagenet',\n",
    "    input_shape=(256, 256, 3),\n",
    ")"
   ]
  },
  {
   "cell_type": "code",
   "execution_count": 7,
   "metadata": {
    "execution": {
     "iopub.execute_input": "2021-11-28T20:03:48.149597Z",
     "iopub.status.busy": "2021-11-28T20:03:48.148720Z",
     "iopub.status.idle": "2021-11-28T20:03:48.155983Z",
     "shell.execute_reply": "2021-11-28T20:03:48.154777Z",
     "shell.execute_reply.started": "2021-11-28T20:03:48.149564Z"
    }
   },
   "outputs": [],
   "source": [
    "#calling the preprocess function from resnet\n",
    "from tensorflow.keras.applications.resnet import preprocess_input"
   ]
  },
  {
   "cell_type": "code",
   "execution_count": 8,
   "metadata": {
    "execution": {
     "iopub.execute_input": "2021-11-28T20:03:49.032389Z",
     "iopub.status.busy": "2021-11-28T20:03:49.031744Z",
     "iopub.status.idle": "2021-11-28T20:04:04.068785Z",
     "shell.execute_reply": "2021-11-28T20:04:04.067786Z",
     "shell.execute_reply.started": "2021-11-28T20:03:49.032360Z"
    }
   },
   "outputs": [],
   "source": [
    "# data generator for splitting the validation set and data augmentation\n",
    "aug_train_data_gen = ImageDataGenerator(preprocessing_function=preprocess_input,validation_split=0.1,\n",
    "                                        rotation_range=30,\n",
    "                                        shear_range = 0.2,\n",
    "                                        height_shift_range=30,\n",
    "                                        width_shift_range=30,\n",
    "                                        zoom_range=0.1,\n",
    "                                        horizontal_flip=True,\n",
    "                                        vertical_flip=True, \n",
    "                                        fill_mode='nearest',) # rescale value is multiplied to the image\n",
    "aug_train_gen = aug_train_data_gen.flow_from_directory(directory=training_dir,\n",
    "                                                           target_size=(256,256),\n",
    "                                                           color_mode='rgb',\n",
    "                                                           classes=None, # can be set to labels\n",
    "                                                           class_mode='categorical',\n",
    "                                                           subset='training',\n",
    "                                                           batch_size=16,\n",
    "                                                           shuffle=True,\n",
    "                                                           seed=seed)\n",
    "\n",
    "aug_validation_gen = aug_train_data_gen.flow_from_directory(directory=training_dir,\n",
    "                                                           target_size=(256,256),\n",
    "                                                           color_mode='rgb',\n",
    "                                                           classes=None, # can be set to labels\n",
    "                                                           class_mode='categorical',\n",
    "                                                           subset='validation',\n",
    "                                                           batch_size=16,\n",
    "                                                           shuffle=True,\n",
    "                                                           seed=seed)"
   ]
  },
  {
   "cell_type": "code",
   "execution_count": 9,
   "metadata": {
    "execution": {
     "iopub.execute_input": "2021-11-28T20:04:34.008203Z",
     "iopub.status.busy": "2021-11-28T20:04:34.007907Z",
     "iopub.status.idle": "2021-11-28T20:04:34.013042Z",
     "shell.execute_reply": "2021-11-28T20:04:34.011634Z",
     "shell.execute_reply.started": "2021-11-28T20:04:34.008153Z"
    }
   },
   "outputs": [],
   "source": [
    "#defining the input shape and number of epochs \n",
    "input_shape = (256, 256, 3)\n",
    "epochs = 200"
   ]
  },
  {
   "cell_type": "code",
   "execution_count": 10,
   "metadata": {
    "execution": {
     "iopub.execute_input": "2021-11-28T20:05:14.172875Z",
     "iopub.status.busy": "2021-11-28T20:05:14.172525Z",
     "iopub.status.idle": "2021-11-28T20:05:15.838747Z",
     "shell.execute_reply": "2021-11-28T20:05:15.837902Z",
     "shell.execute_reply.started": "2021-11-28T20:05:14.172843Z"
    }
   },
   "outputs": [],
   "source": [
    "# first we freez the base model and then we add own classifier to it\n",
    "\n",
    "base_model.trainable = False\n",
    "inputs = tfkl.Input(shape=input_shape)\n",
    "x = base_model(inputs)\n",
    "x = tfkl.GlobalMaxPooling2D()(x)\n",
    "x = tfkl.Flatten(name='Flattening')(x)\n",
    "x = tfkl.Dropout(0.3, seed=seed)(x)\n",
    "x = tfkl.Dense(\n",
    "    512,\n",
    "    activation='relu',\n",
    "    kernel_initializer = tfk.initializers.GlorotUniform(seed))(x)\n",
    "x = tfkl.Dropout(0.2, seed=seed)(x)\n",
    "outputs = tfk.layers.Dense(14,activation='softmax',kernel_initializer=tfk.initializers.GlorotUniform(seed), name='Output')(x)\n",
    "model = tfk.Model(inputs, outputs)"
   ]
  },
  {
   "cell_type": "code",
   "execution_count": 12,
   "metadata": {
    "execution": {
     "iopub.execute_input": "2021-11-28T20:05:48.390825Z",
     "iopub.status.busy": "2021-11-28T20:05:48.390503Z",
     "iopub.status.idle": "2021-11-28T20:05:48.458281Z",
     "shell.execute_reply": "2021-11-28T20:05:48.457307Z",
     "shell.execute_reply.started": "2021-11-28T20:05:48.390795Z"
    }
   },
   "outputs": [],
   "source": [
    "# Build model\n",
    "model.compile(loss=tfk.losses.CategoricalCrossentropy(), optimizer=tfk.optimizers.Adam(), metrics='accuracy')\n",
    "model.summary()"
   ]
  },
  {
   "cell_type": "code",
   "execution_count": 13,
   "metadata": {
    "execution": {
     "iopub.execute_input": "2021-11-28T20:10:29.617998Z",
     "iopub.status.busy": "2021-11-28T20:10:29.617663Z",
     "iopub.status.idle": "2021-11-28T20:19:16.060730Z",
     "shell.execute_reply": "2021-11-28T20:19:16.059140Z",
     "shell.execute_reply.started": "2021-11-28T20:10:29.617969Z"
    }
   },
   "outputs": [],
   "source": [
    "# Create folders and callbacks and fit\n",
    "aug_callbacks = create_folders_and_callbacks(model_name='/kaggle/output/homework1/CNN_Aug_resnet152')\n",
    "\n",
    "# Train the model\n",
    "history = model.fit(\n",
    "    x = aug_train_gen,\n",
    "    epochs = epochs,\n",
    "    validation_data = aug_validation_gen,\n",
    "    callbacks = aug_callbacks,\n",
    ").history"
   ]
  },
  {
   "cell_type": "code",
   "execution_count": 15,
   "metadata": {
    "execution": {
     "iopub.status.idle": "2021-11-28T12:58:30.795374Z",
     "shell.execute_reply": "2021-11-28T12:58:30.794569Z",
     "shell.execute_reply.started": "2021-11-28T12:57:11.631022Z"
    }
   },
   "outputs": [],
   "source": [
    "# Save best epoch model\n",
    "model.save(\"/kaggle/output/homework1/CNN_Aug_resnet152\")"
   ]
  },
  {
   "cell_type": "code",
   "execution_count": 16,
   "metadata": {
    "execution": {
     "iopub.execute_input": "2021-11-28T12:58:30.808267Z",
     "iopub.status.busy": "2021-11-28T12:58:30.808032Z",
     "iopub.status.idle": "2021-11-28T12:58:44.545887Z",
     "shell.execute_reply": "2021-11-28T12:58:44.545016Z",
     "shell.execute_reply.started": "2021-11-28T12:58:30.808242Z"
    }
   },
   "outputs": [],
   "source": [
    "#getting the zip file and downloading it\n",
    "!zip -r CNN_Aug_resnet152.zip /kaggle/output/homework1/CNN_Aug_resnet152"
   ]
  },
  {
   "cell_type": "code",
   "execution_count": 17,
   "metadata": {
    "execution": {
     "iopub.execute_input": "2021-11-28T12:58:44.581411Z",
     "iopub.status.busy": "2021-11-28T12:58:44.579889Z",
     "iopub.status.idle": "2021-11-28T12:58:44.954271Z",
     "shell.execute_reply": "2021-11-28T12:58:44.953424Z",
     "shell.execute_reply.started": "2021-11-28T12:58:44.581366Z"
    }
   },
   "outputs": [],
   "source": [
    "#plotting the validation and train loss\n",
    "plt.plot(history['loss'])\n",
    "plt.plot(history['val_loss'])\n",
    "plt.title('model loss')\n",
    "plt.ylabel('loss')\n",
    "plt.xlabel('epoch')\n",
    "plt.legend(['train', 'validation'], loc='upper left')\n",
    "plt.show()"
   ]
  },
  {
   "cell_type": "code",
   "execution_count": 18,
   "metadata": {
    "execution": {
     "iopub.execute_input": "2021-11-28T12:58:44.955800Z",
     "iopub.status.busy": "2021-11-28T12:58:44.955538Z",
     "iopub.status.idle": "2021-11-28T12:58:45.483045Z",
     "shell.execute_reply": "2021-11-28T12:58:45.482260Z",
     "shell.execute_reply.started": "2021-11-28T12:58:44.955764Z"
    }
   },
   "outputs": [],
   "source": [
    "#plotting the validation and train ACC\n",
    "plt.plot(history['accuracy'])\n",
    "plt.plot(history['val_accuracy'])\n",
    "plt.title('model accuracy')\n",
    "plt.ylabel('loss')\n",
    "plt.xlabel('epoch')\n",
    "plt.legend(['train', 'validation'], loc='upper left')\n",
    "plt.show()"
   ]
  }
 ],
 "metadata": {
  "kernelspec": {
   "display_name": "Python 3",
   "language": "python",
   "name": "python3"
  },
  "language_info": {
   "codemirror_mode": {
    "name": "ipython",
    "version": 3
   },
   "file_extension": ".py",
   "mimetype": "text/x-python",
   "name": "python",
   "nbconvert_exporter": "python",
   "pygments_lexer": "ipython3",
   "version": "3.6.7"
  }
 },
 "nbformat": 4,
 "nbformat_minor": 4
}
